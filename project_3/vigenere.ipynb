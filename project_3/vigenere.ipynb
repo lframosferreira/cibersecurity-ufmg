{
 "cells": [
  {
   "cell_type": "code",
   "execution_count": 52,
   "metadata": {},
   "outputs": [],
   "source": [
    "import numpy as np\n",
    "import numpy.typing as npt\n",
    "import warnings"
   ]
  },
  {
   "cell_type": "code",
   "execution_count": 53,
   "metadata": {},
   "outputs": [],
   "source": [
    "ALPHABET_SIZE: np.int8 = 26\n",
    "VIGENERE_MATRIX: npt.NDArray[np.int8] = np.fromfunction(lambda i, j: (i + j) % 26, shape=(ALPHABET_SIZE, ALPHABET_SIZE), dtype=np.int8)\n",
    "\n",
    "KEY: np.string_ = \"TESSOFTHEDURBERVILLES\"\n",
    "KEY_LENGTH: np.int8 = len(KEY)\n",
    "\n",
    "MYTEXT: np.string_ = \"KILLTHEKINGATMIDNIGHTANDBLAMETHEJESTER\""
   ]
  },
  {
   "cell_type": "code",
   "execution_count": 54,
   "metadata": {},
   "outputs": [],
   "source": [
    "\"\"\"\n",
    "Encrypt a text using Vigenère cipher.\n",
    "\n",
    "\"\"\"\n",
    "\n",
    "def vigenere_cipher(key: np.string_, text: np.string_) -> np.string_:\n",
    "    char_to_int = lambda c: ord(c) - 65\n",
    "    int_to_char = lambda i: chr(i + 65)\n",
    "    encrypted_text: np.string_ = \"\"\n",
    "    for i in np.arange(len(MYTEXT)):\n",
    "        key_index: np.int8 = int(i % KEY_LENGTH)\n",
    "        row: np.int8 = char_to_int(KEY[key_index])\n",
    "        col: np.int8 = char_to_int(MYTEXT[i])\n",
    "        encrypted_text += int_to_char(VIGENERE_MATRIX[row][col])\n",
    "    return encrypted_text"
   ]
  },
  {
   "cell_type": "code",
   "execution_count": 55,
   "metadata": {},
   "outputs": [
    {
     "data": {
      "text/plain": [
       "'DMDDHMXRMQARUQZYVTRLLTRVTZFFLXKYAFWKZZ'"
      ]
     },
     "execution_count": 55,
     "metadata": {},
     "output_type": "execute_result"
    }
   ],
   "source": [
    "vigenere_cipher(key=KEY, text=MYTEXT)"
   ]
  }
 ],
 "metadata": {
  "kernelspec": {
   "display_name": "cibersecurity-project-3",
   "language": "python",
   "name": "python3"
  },
  "language_info": {
   "codemirror_mode": {
    "name": "ipython",
    "version": 3
   },
   "file_extension": ".py",
   "mimetype": "text/x-python",
   "name": "python",
   "nbconvert_exporter": "python",
   "pygments_lexer": "ipython3",
   "version": "3.11.4"
  },
  "orig_nbformat": 4
 },
 "nbformat": 4,
 "nbformat_minor": 2
}
