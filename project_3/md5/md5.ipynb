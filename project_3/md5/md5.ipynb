{
 "cells": [
  {
   "cell_type": "code",
   "execution_count": 181,
   "metadata": {},
   "outputs": [],
   "source": [
    "from pymd5 import md5, padding\n",
    "import codecs"
   ]
  },
  {
   "cell_type": "code",
   "execution_count": 182,
   "metadata": {},
   "outputs": [
    {
     "name": "stdout",
     "output_type": "stream",
     "text": [
      "3ecc68efa1871751ea9b0b1a5b25004d\n"
     ]
    }
   ],
   "source": [
    "m = \"Use HMAC, not hashes\"\n",
    "h = md5()\n",
    "h.update(m)\n",
    "print(hashed_string := h.hexdigest())"
   ]
  },
  {
   "cell_type": "code",
   "execution_count": 183,
   "metadata": {},
   "outputs": [],
   "source": [
    "h = md5(state=codecs.decode(hashed_string, \"hex\"), count=512)"
   ]
  },
  {
   "cell_type": "code",
   "execution_count": 184,
   "metadata": {},
   "outputs": [
    {
     "name": "stdout",
     "output_type": "stream",
     "text": [
      "e1ca9db8eae1b8cbfacc63de828af6d0\n"
     ]
    }
   ],
   "source": [
    "x = \"Good advice\"\n",
    "h.update(x)\n",
    "print(hashed_string_extended := h.hexdigest())"
   ]
  },
  {
   "cell_type": "code",
   "execution_count": 185,
   "metadata": {},
   "outputs": [
    {
     "data": {
      "text/plain": [
       "'547c2969a9323a1a1e3165266af7f190'"
      ]
     },
     "execution_count": 185,
     "metadata": {},
     "output_type": "execute_result"
    }
   ],
   "source": [
    "# probelms with encoding\n",
    "\n",
    "h_new = md5()\n",
    "m_new = m + padding(len(m) * 8).decode(encoding=\"latin-1\") + x\n",
    "h_new.update(m_new)\n",
    "h_new.hexdigest()"
   ]
  }
 ],
 "metadata": {
  "kernelspec": {
   "display_name": "cibersecurity-project-3",
   "language": "python",
   "name": "python3"
  },
  "language_info": {
   "codemirror_mode": {
    "name": "ipython",
    "version": 3
   },
   "file_extension": ".py",
   "mimetype": "text/x-python",
   "name": "python",
   "nbconvert_exporter": "python",
   "pygments_lexer": "ipython3",
   "version": "3.11.4"
  },
  "orig_nbformat": 4
 },
 "nbformat": 4,
 "nbformat_minor": 2
}
