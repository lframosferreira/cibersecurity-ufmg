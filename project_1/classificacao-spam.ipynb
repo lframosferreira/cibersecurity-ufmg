{
 "cells": [
  {
   "cell_type": "code",
   "execution_count": 1,
   "id": "ef1a830d",
   "metadata": {
    "_cell_guid": "b1076dfc-b9ad-4769-8c92-a6c4dae69d19",
    "_uuid": "8f2839f25d086af736a60e9eeb907d3b93b6e0e5",
    "execution": {
     "iopub.execute_input": "2021-11-15T14:05:05.587421Z",
     "iopub.status.busy": "2021-11-15T14:05:05.586182Z",
     "iopub.status.idle": "2021-11-15T14:05:05.598431Z",
     "shell.execute_reply": "2021-11-15T14:05:05.599228Z",
     "shell.execute_reply.started": "2021-11-10T14:54:46.034268Z"
    },
    "papermill": {
     "duration": 0.05054,
     "end_time": "2021-11-15T14:05:05.599686",
     "exception": false,
     "start_time": "2021-11-15T14:05:05.549146",
     "status": "completed"
    },
    "tags": []
   },
   "outputs": [],
   "source": [
    "#Estudo de caso 5 do curso de Introduação à Ciência de Dados Aplicada à Cibersegurança\n",
    "\n",
    "#Importando bibliotecas básicas\n",
    "\n",
    "import numpy as np # vetores e matrizes \n",
    "import pandas as pd # processamento dos dados, arquivo CSV I/O (e.g. pd.read_csv)\n",
    "import warnings\n",
    "import json\n",
    "import matplotlib.pyplot as plt\n",
    "warnings.filterwarnings('ignore')\n"
   ]
  },
  {
   "cell_type": "code",
   "execution_count": 105,
   "id": "c1ca8842",
   "metadata": {
    "execution": {
     "iopub.execute_input": "2021-11-15T14:05:05.648545Z",
     "iopub.status.busy": "2021-11-15T14:05:05.647555Z",
     "iopub.status.idle": "2021-11-15T14:05:05.707147Z",
     "shell.execute_reply": "2021-11-15T14:05:05.707755Z",
     "shell.execute_reply.started": "2021-11-10T14:54:46.045299Z"
    },
    "papermill": {
     "duration": 0.08508,
     "end_time": "2021-11-15T14:05:05.708019",
     "exception": false,
     "start_time": "2021-11-15T14:05:05.622939",
     "status": "completed"
    },
    "tags": []
   },
   "outputs": [
    {
     "data": {
      "text/html": [
       "<div>\n",
       "<style scoped>\n",
       "    .dataframe tbody tr th:only-of-type {\n",
       "        vertical-align: middle;\n",
       "    }\n",
       "\n",
       "    .dataframe tbody tr th {\n",
       "        vertical-align: top;\n",
       "    }\n",
       "\n",
       "    .dataframe thead th {\n",
       "        text-align: right;\n",
       "    }\n",
       "</style>\n",
       "<table border=\"1\" class=\"dataframe\">\n",
       "  <thead>\n",
       "    <tr style=\"text-align: right;\">\n",
       "      <th></th>\n",
       "      <th>label</th>\n",
       "      <th>message</th>\n",
       "    </tr>\n",
       "  </thead>\n",
       "  <tbody>\n",
       "    <tr>\n",
       "      <th>0</th>\n",
       "      <td>ham</td>\n",
       "      <td>Go until jurong point, crazy.. Available only ...</td>\n",
       "    </tr>\n",
       "    <tr>\n",
       "      <th>1</th>\n",
       "      <td>ham</td>\n",
       "      <td>Ok lar... Joking wif u oni...</td>\n",
       "    </tr>\n",
       "    <tr>\n",
       "      <th>2</th>\n",
       "      <td>spam</td>\n",
       "      <td>Free entry in 2 a wkly comp to win FA Cup fina...</td>\n",
       "    </tr>\n",
       "    <tr>\n",
       "      <th>3</th>\n",
       "      <td>ham</td>\n",
       "      <td>U dun say so early hor... U c already then say...</td>\n",
       "    </tr>\n",
       "    <tr>\n",
       "      <th>4</th>\n",
       "      <td>ham</td>\n",
       "      <td>Nah I don't think he goes to usf, he lives aro...</td>\n",
       "    </tr>\n",
       "    <tr>\n",
       "      <th>5</th>\n",
       "      <td>spam</td>\n",
       "      <td>FreeMsg Hey there darling it's been 3 week's n...</td>\n",
       "    </tr>\n",
       "    <tr>\n",
       "      <th>6</th>\n",
       "      <td>ham</td>\n",
       "      <td>Even my brother is not like to speak with me. ...</td>\n",
       "    </tr>\n",
       "    <tr>\n",
       "      <th>7</th>\n",
       "      <td>ham</td>\n",
       "      <td>As per your request 'Melle Melle (Oru Minnamin...</td>\n",
       "    </tr>\n",
       "    <tr>\n",
       "      <th>8</th>\n",
       "      <td>spam</td>\n",
       "      <td>WINNER!! As a valued network customer you have...</td>\n",
       "    </tr>\n",
       "    <tr>\n",
       "      <th>9</th>\n",
       "      <td>spam</td>\n",
       "      <td>Had your mobile 11 months or more? U R entitle...</td>\n",
       "    </tr>\n",
       "  </tbody>\n",
       "</table>\n",
       "</div>"
      ],
      "text/plain": [
       "  label                                            message\n",
       "0   ham  Go until jurong point, crazy.. Available only ...\n",
       "1   ham                      Ok lar... Joking wif u oni...\n",
       "2  spam  Free entry in 2 a wkly comp to win FA Cup fina...\n",
       "3   ham  U dun say so early hor... U c already then say...\n",
       "4   ham  Nah I don't think he goes to usf, he lives aro...\n",
       "5  spam  FreeMsg Hey there darling it's been 3 week's n...\n",
       "6   ham  Even my brother is not like to speak with me. ...\n",
       "7   ham  As per your request 'Melle Melle (Oru Minnamin...\n",
       "8  spam  WINNER!! As a valued network customer you have...\n",
       "9  spam  Had your mobile 11 months or more? U R entitle..."
      ]
     },
     "execution_count": 105,
     "metadata": {},
     "output_type": "execute_result"
    }
   ],
   "source": [
    "# Importando a base de dados para o pandas\n",
    "\n",
    "sms = pd.read_csv(\"data/spam.csv\", encoding = \"ISO-8859-1\", usecols=[0,1], skiprows=1,\n",
    "                  names=[\"label\", \"message\"])\n",
    "sms.head(10)"
   ]
  },
  {
   "cell_type": "code",
   "execution_count": 106,
   "id": "aeefbc49",
   "metadata": {
    "execution": {
     "iopub.execute_input": "2021-11-15T14:05:05.757027Z",
     "iopub.status.busy": "2021-11-15T14:05:05.756204Z",
     "iopub.status.idle": "2021-11-15T14:05:05.778197Z",
     "shell.execute_reply": "2021-11-15T14:05:05.778867Z",
     "shell.execute_reply.started": "2021-11-10T14:54:46.078303Z"
    },
    "papermill": {
     "duration": 0.047382,
     "end_time": "2021-11-15T14:05:05.779115",
     "exception": false,
     "start_time": "2021-11-15T14:05:05.731733",
     "status": "completed"
    },
    "tags": []
   },
   "outputs": [],
   "source": [
    "sms.label = sms.label.map({\"ham\":0, \"spam\":1})"
   ]
  },
  {
   "cell_type": "code",
   "execution_count": 107,
   "id": "f9669bd7",
   "metadata": {
    "execution": {
     "iopub.execute_input": "2021-11-15T14:05:05.823749Z",
     "iopub.status.busy": "2021-11-15T14:05:05.822852Z",
     "iopub.status.idle": "2021-11-15T14:05:05.833191Z",
     "shell.execute_reply": "2021-11-15T14:05:05.833722Z",
     "shell.execute_reply.started": "2021-11-10T14:54:46.085937Z"
    },
    "papermill": {
     "duration": 0.036287,
     "end_time": "2021-11-15T14:05:05.833991",
     "exception": false,
     "start_time": "2021-11-15T14:05:05.797704",
     "status": "completed"
    },
    "tags": []
   },
   "outputs": [
    {
     "data": {
      "text/plain": [
       "0    4825\n",
       "1     747\n",
       "Name: label, dtype: int64"
      ]
     },
     "execution_count": 107,
     "metadata": {},
     "output_type": "execute_result"
    }
   ],
   "source": [
    "# mais casos negativos (ham) que positivos (spams) \n",
    "sms.label.value_counts()"
   ]
  },
  {
   "cell_type": "code",
   "execution_count": 108,
   "id": "5c6dcdd0",
   "metadata": {
    "execution": {
     "iopub.execute_input": "2021-11-15T14:05:05.880282Z",
     "iopub.status.busy": "2021-11-15T14:05:05.879544Z",
     "iopub.status.idle": "2021-11-15T14:05:07.186719Z",
     "shell.execute_reply": "2021-11-15T14:05:07.184396Z",
     "shell.execute_reply.started": "2021-11-10T14:54:46.106004Z"
    },
    "papermill": {
     "duration": 1.331978,
     "end_time": "2021-11-15T14:05:07.187491",
     "exception": false,
     "start_time": "2021-11-15T14:05:05.855513",
     "status": "completed"
    },
    "tags": []
   },
   "outputs": [],
   "source": [
    "#Dividindo a base em treino e teste\n",
    "from sklearn.model_selection import train_test_split\n",
    "features_train, features_test, labels_train, labels_test = train_test_split(sms.message, \n",
    "                                                                            sms.label, \n",
    "                                                                            test_size=0.2)"
   ]
  },
  {
   "cell_type": "code",
   "execution_count": 109,
   "id": "187d7e20",
   "metadata": {
    "execution": {
     "iopub.execute_input": "2021-11-15T14:05:07.232010Z",
     "iopub.status.busy": "2021-11-15T14:05:07.230806Z",
     "iopub.status.idle": "2021-11-15T14:05:07.413976Z",
     "shell.execute_reply": "2021-11-15T14:05:07.413180Z",
     "shell.execute_reply.started": "2021-11-10T14:54:46.117917Z"
    },
    "papermill": {
     "duration": 0.205324,
     "end_time": "2021-11-15T14:05:07.414146",
     "exception": false,
     "start_time": "2021-11-15T14:05:07.208822",
     "status": "completed"
    },
    "tags": []
   },
   "outputs": [
    {
     "data": {
      "text/html": [
       "<style>#sk-container-id-9 {color: black;background-color: white;}#sk-container-id-9 pre{padding: 0;}#sk-container-id-9 div.sk-toggleable {background-color: white;}#sk-container-id-9 label.sk-toggleable__label {cursor: pointer;display: block;width: 100%;margin-bottom: 0;padding: 0.3em;box-sizing: border-box;text-align: center;}#sk-container-id-9 label.sk-toggleable__label-arrow:before {content: \"▸\";float: left;margin-right: 0.25em;color: #696969;}#sk-container-id-9 label.sk-toggleable__label-arrow:hover:before {color: black;}#sk-container-id-9 div.sk-estimator:hover label.sk-toggleable__label-arrow:before {color: black;}#sk-container-id-9 div.sk-toggleable__content {max-height: 0;max-width: 0;overflow: hidden;text-align: left;background-color: #f0f8ff;}#sk-container-id-9 div.sk-toggleable__content pre {margin: 0.2em;color: black;border-radius: 0.25em;background-color: #f0f8ff;}#sk-container-id-9 input.sk-toggleable__control:checked~div.sk-toggleable__content {max-height: 200px;max-width: 100%;overflow: auto;}#sk-container-id-9 input.sk-toggleable__control:checked~label.sk-toggleable__label-arrow:before {content: \"▾\";}#sk-container-id-9 div.sk-estimator input.sk-toggleable__control:checked~label.sk-toggleable__label {background-color: #d4ebff;}#sk-container-id-9 div.sk-label input.sk-toggleable__control:checked~label.sk-toggleable__label {background-color: #d4ebff;}#sk-container-id-9 input.sk-hidden--visually {border: 0;clip: rect(1px 1px 1px 1px);clip: rect(1px, 1px, 1px, 1px);height: 1px;margin: -1px;overflow: hidden;padding: 0;position: absolute;width: 1px;}#sk-container-id-9 div.sk-estimator {font-family: monospace;background-color: #f0f8ff;border: 1px dotted black;border-radius: 0.25em;box-sizing: border-box;margin-bottom: 0.5em;}#sk-container-id-9 div.sk-estimator:hover {background-color: #d4ebff;}#sk-container-id-9 div.sk-parallel-item::after {content: \"\";width: 100%;border-bottom: 1px solid gray;flex-grow: 1;}#sk-container-id-9 div.sk-label:hover label.sk-toggleable__label {background-color: #d4ebff;}#sk-container-id-9 div.sk-serial::before {content: \"\";position: absolute;border-left: 1px solid gray;box-sizing: border-box;top: 0;bottom: 0;left: 50%;z-index: 0;}#sk-container-id-9 div.sk-serial {display: flex;flex-direction: column;align-items: center;background-color: white;padding-right: 0.2em;padding-left: 0.2em;position: relative;}#sk-container-id-9 div.sk-item {position: relative;z-index: 1;}#sk-container-id-9 div.sk-parallel {display: flex;align-items: stretch;justify-content: center;background-color: white;position: relative;}#sk-container-id-9 div.sk-item::before, #sk-container-id-9 div.sk-parallel-item::before {content: \"\";position: absolute;border-left: 1px solid gray;box-sizing: border-box;top: 0;bottom: 0;left: 50%;z-index: -1;}#sk-container-id-9 div.sk-parallel-item {display: flex;flex-direction: column;z-index: 1;position: relative;background-color: white;}#sk-container-id-9 div.sk-parallel-item:first-child::after {align-self: flex-end;width: 50%;}#sk-container-id-9 div.sk-parallel-item:last-child::after {align-self: flex-start;width: 50%;}#sk-container-id-9 div.sk-parallel-item:only-child::after {width: 0;}#sk-container-id-9 div.sk-dashed-wrapped {border: 1px dashed gray;margin: 0 0.4em 0.5em 0.4em;box-sizing: border-box;padding-bottom: 0.4em;background-color: white;}#sk-container-id-9 div.sk-label label {font-family: monospace;font-weight: bold;display: inline-block;line-height: 1.2em;}#sk-container-id-9 div.sk-label-container {text-align: center;}#sk-container-id-9 div.sk-container {/* jupyter's `normalize.less` sets `[hidden] { display: none; }` but bootstrap.min.css set `[hidden] { display: none !important; }` so we also need the `!important` here to be able to override the default hidden behavior on the sphinx rendered scikit-learn.org. See: https://github.com/scikit-learn/scikit-learn/issues/21755 */display: inline-block !important;position: relative;}#sk-container-id-9 div.sk-text-repr-fallback {display: none;}</style><div id=\"sk-container-id-9\" class=\"sk-top-container\"><div class=\"sk-text-repr-fallback\"><pre>CountVectorizer()</pre><b>In a Jupyter environment, please rerun this cell to show the HTML representation or trust the notebook. <br />On GitHub, the HTML representation is unable to render, please try loading this page with nbviewer.org.</b></div><div class=\"sk-container\" hidden><div class=\"sk-item\"><div class=\"sk-estimator sk-toggleable\"><input class=\"sk-toggleable__control sk-hidden--visually\" id=\"sk-estimator-id-9\" type=\"checkbox\" checked><label for=\"sk-estimator-id-9\" class=\"sk-toggleable__label sk-toggleable__label-arrow\">CountVectorizer</label><div class=\"sk-toggleable__content\"><pre>CountVectorizer()</pre></div></div></div></div></div>"
      ],
      "text/plain": [
       "CountVectorizer()"
      ]
     },
     "execution_count": 109,
     "metadata": {},
     "output_type": "execute_result"
    }
   ],
   "source": [
    "# Criando o documento de treino\n",
    "\n",
    "from sklearn.feature_extraction.text import CountVectorizer\n",
    "\n",
    "couvec = CountVectorizer()\n",
    "couvec.fit(features_train)"
   ]
  },
  {
   "cell_type": "code",
   "execution_count": 110,
   "id": "19b82849",
   "metadata": {
    "execution": {
     "iopub.execute_input": "2021-11-15T14:05:07.469482Z",
     "iopub.status.busy": "2021-11-15T14:05:07.468369Z",
     "iopub.status.idle": "2021-11-15T14:05:07.473016Z",
     "shell.execute_reply": "2021-11-15T14:05:07.472408Z",
     "shell.execute_reply.started": "2021-11-10T14:54:46.246639Z"
    },
    "papermill": {
     "duration": 0.037166,
     "end_time": "2021-11-15T14:05:07.473184",
     "exception": false,
     "start_time": "2021-11-15T14:05:07.436018",
     "status": "completed"
    },
    "tags": []
   },
   "outputs": [
    {
     "name": "stdout",
     "output_type": "stream",
     "text": [
      "Número de características vetorizadas: 7774\n",
      "Exemplos de características treinadas: ['000' '008704050406' '0089' '0121' '01223585236' '01223585334'\n",
      " '0125698789' '02' '0207']\n"
     ]
    }
   ],
   "source": [
    "# número de características ou tokens\n",
    "trained_features = couvec.get_feature_names_out()\n",
    "print(\"Número de características vetorizadas:\", len(trained_features))\n",
    "print(\"Exemplos de características treinadas:\", trained_features[1:10])"
   ]
  },
  {
   "cell_type": "code",
   "execution_count": 111,
   "id": "ac8c023e",
   "metadata": {
    "execution": {
     "iopub.execute_input": "2021-11-15T14:05:07.545715Z",
     "iopub.status.busy": "2021-11-15T14:05:07.540545Z",
     "iopub.status.idle": "2021-11-15T14:05:07.692795Z",
     "shell.execute_reply": "2021-11-15T14:05:07.691755Z",
     "shell.execute_reply.started": "2021-11-10T14:54:46.258561Z"
    },
    "papermill": {
     "duration": 0.198735,
     "end_time": "2021-11-15T14:05:07.693015",
     "exception": false,
     "start_time": "2021-11-15T14:05:07.494280",
     "status": "completed"
    },
    "tags": []
   },
   "outputs": [
    {
     "name": "stdout",
     "output_type": "stream",
     "text": [
      "Shape of dtm_train: (4457, 7774)\n",
      "  (0, 5259)\t1\n",
      "  (0, 6758)\t1\n",
      "  (0, 4426)\t1\n",
      "  (0, 4839)\t1\n",
      "  (0, 902)\t1\n",
      "  (0, 4904)\t1\n",
      "  (0, 4681)\t1\n",
      "  (0, 1647)\t1\n",
      "  (0, 3943)\t1\n",
      "  (0, 1041)\t1\n",
      "  (0, 3659)\t1\n",
      "  (0, 7724)\t1\n",
      "  (0, 5511)\t1\n",
      "  (1, 902)\t1\n",
      "  (1, 4932)\t1\n",
      "  (1, 1421)\t1\n",
      "  (1, 914)\t1\n",
      "  (1, 3668)\t1\n",
      "  (1, 6820)\t1\n",
      "  (1, 4954)\t1\n",
      "  (1, 1106)\t1\n",
      "  (1, 1541)\t1\n"
     ]
    }
   ],
   "source": [
    "# tokenized train documents\n",
    "\n",
    "dtm_train = couvec.fit_transform(features_train)\n",
    "print(\"Shape of dtm_train:\", dtm_train.shape)\n",
    "print(dtm_train[0:2]) # first two rows of sparse matrix"
   ]
  },
  {
   "cell_type": "code",
   "execution_count": 112,
   "id": "adbbf20e",
   "metadata": {
    "execution": {
     "iopub.execute_input": "2021-11-15T14:05:07.747707Z",
     "iopub.status.busy": "2021-11-15T14:05:07.744393Z",
     "iopub.status.idle": "2021-11-15T14:05:07.782708Z",
     "shell.execute_reply": "2021-11-15T14:05:07.781862Z",
     "shell.execute_reply.started": "2021-11-10T14:54:46.392227Z"
    },
    "papermill": {
     "duration": 0.06769,
     "end_time": "2021-11-15T14:05:07.782908",
     "exception": false,
     "start_time": "2021-11-15T14:05:07.715218",
     "status": "completed"
    },
    "tags": []
   },
   "outputs": [
    {
     "name": "stdout",
     "output_type": "stream",
     "text": [
      "Shape of dtm_test: (1115, 7774)\n"
     ]
    }
   ],
   "source": [
    "# tokenized test documents\n",
    "\n",
    "dtm_test = couvec.transform(features_test)\n",
    "print(\"Shape of dtm_test:\", dtm_test.shape)"
   ]
  },
  {
   "cell_type": "code",
   "execution_count": 113,
   "id": "1a0ce1a7",
   "metadata": {
    "execution": {
     "iopub.execute_input": "2021-11-15T14:05:07.835753Z",
     "iopub.status.busy": "2021-11-15T14:05:07.833389Z",
     "iopub.status.idle": "2021-11-15T14:05:07.842160Z",
     "shell.execute_reply": "2021-11-15T14:05:07.842749Z",
     "shell.execute_reply.started": "2021-11-10T14:54:46.432925Z"
    },
    "papermill": {
     "duration": 0.036549,
     "end_time": "2021-11-15T14:05:07.843017",
     "exception": false,
     "start_time": "2021-11-15T14:05:07.806468",
     "status": "completed"
    },
    "tags": []
   },
   "outputs": [],
   "source": [
    "# Construíndo e avaliando o modelo \n",
    "\n",
    "# Multimodal Naive Bayes \n",
    "# O classificador multimodal Naive Bays é útil para classificar características discretas. \n",
    "# (e.g., número de palavras para classificação de textos). \n",
    "# A distribuição multimodal requer geralmente contadores inteiros como features.\n",
    "\n",
    "# Importando e instanciando o modelo Nayve Bayes Multimodal\n",
    "from sklearn.naive_bayes import MultinomialNB\n",
    "nb = MultinomialNB()"
   ]
  },
  {
   "cell_type": "code",
   "execution_count": 114,
   "id": "b50d7189",
   "metadata": {
    "execution": {
     "iopub.execute_input": "2021-11-15T14:05:07.892844Z",
     "iopub.status.busy": "2021-11-15T14:05:07.892067Z",
     "iopub.status.idle": "2021-11-15T14:05:07.901282Z",
     "shell.execute_reply": "2021-11-15T14:05:07.901983Z",
     "shell.execute_reply.started": "2021-11-10T14:54:46.440874Z"
    },
    "papermill": {
     "duration": 0.036323,
     "end_time": "2021-11-15T14:05:07.902187",
     "exception": false,
     "start_time": "2021-11-15T14:05:07.865864",
     "status": "completed"
    },
    "tags": []
   },
   "outputs": [
    {
     "data": {
      "text/html": [
       "<style>#sk-container-id-10 {color: black;background-color: white;}#sk-container-id-10 pre{padding: 0;}#sk-container-id-10 div.sk-toggleable {background-color: white;}#sk-container-id-10 label.sk-toggleable__label {cursor: pointer;display: block;width: 100%;margin-bottom: 0;padding: 0.3em;box-sizing: border-box;text-align: center;}#sk-container-id-10 label.sk-toggleable__label-arrow:before {content: \"▸\";float: left;margin-right: 0.25em;color: #696969;}#sk-container-id-10 label.sk-toggleable__label-arrow:hover:before {color: black;}#sk-container-id-10 div.sk-estimator:hover label.sk-toggleable__label-arrow:before {color: black;}#sk-container-id-10 div.sk-toggleable__content {max-height: 0;max-width: 0;overflow: hidden;text-align: left;background-color: #f0f8ff;}#sk-container-id-10 div.sk-toggleable__content pre {margin: 0.2em;color: black;border-radius: 0.25em;background-color: #f0f8ff;}#sk-container-id-10 input.sk-toggleable__control:checked~div.sk-toggleable__content {max-height: 200px;max-width: 100%;overflow: auto;}#sk-container-id-10 input.sk-toggleable__control:checked~label.sk-toggleable__label-arrow:before {content: \"▾\";}#sk-container-id-10 div.sk-estimator input.sk-toggleable__control:checked~label.sk-toggleable__label {background-color: #d4ebff;}#sk-container-id-10 div.sk-label input.sk-toggleable__control:checked~label.sk-toggleable__label {background-color: #d4ebff;}#sk-container-id-10 input.sk-hidden--visually {border: 0;clip: rect(1px 1px 1px 1px);clip: rect(1px, 1px, 1px, 1px);height: 1px;margin: -1px;overflow: hidden;padding: 0;position: absolute;width: 1px;}#sk-container-id-10 div.sk-estimator {font-family: monospace;background-color: #f0f8ff;border: 1px dotted black;border-radius: 0.25em;box-sizing: border-box;margin-bottom: 0.5em;}#sk-container-id-10 div.sk-estimator:hover {background-color: #d4ebff;}#sk-container-id-10 div.sk-parallel-item::after {content: \"\";width: 100%;border-bottom: 1px solid gray;flex-grow: 1;}#sk-container-id-10 div.sk-label:hover label.sk-toggleable__label {background-color: #d4ebff;}#sk-container-id-10 div.sk-serial::before {content: \"\";position: absolute;border-left: 1px solid gray;box-sizing: border-box;top: 0;bottom: 0;left: 50%;z-index: 0;}#sk-container-id-10 div.sk-serial {display: flex;flex-direction: column;align-items: center;background-color: white;padding-right: 0.2em;padding-left: 0.2em;position: relative;}#sk-container-id-10 div.sk-item {position: relative;z-index: 1;}#sk-container-id-10 div.sk-parallel {display: flex;align-items: stretch;justify-content: center;background-color: white;position: relative;}#sk-container-id-10 div.sk-item::before, #sk-container-id-10 div.sk-parallel-item::before {content: \"\";position: absolute;border-left: 1px solid gray;box-sizing: border-box;top: 0;bottom: 0;left: 50%;z-index: -1;}#sk-container-id-10 div.sk-parallel-item {display: flex;flex-direction: column;z-index: 1;position: relative;background-color: white;}#sk-container-id-10 div.sk-parallel-item:first-child::after {align-self: flex-end;width: 50%;}#sk-container-id-10 div.sk-parallel-item:last-child::after {align-self: flex-start;width: 50%;}#sk-container-id-10 div.sk-parallel-item:only-child::after {width: 0;}#sk-container-id-10 div.sk-dashed-wrapped {border: 1px dashed gray;margin: 0 0.4em 0.5em 0.4em;box-sizing: border-box;padding-bottom: 0.4em;background-color: white;}#sk-container-id-10 div.sk-label label {font-family: monospace;font-weight: bold;display: inline-block;line-height: 1.2em;}#sk-container-id-10 div.sk-label-container {text-align: center;}#sk-container-id-10 div.sk-container {/* jupyter's `normalize.less` sets `[hidden] { display: none; }` but bootstrap.min.css set `[hidden] { display: none !important; }` so we also need the `!important` here to be able to override the default hidden behavior on the sphinx rendered scikit-learn.org. See: https://github.com/scikit-learn/scikit-learn/issues/21755 */display: inline-block !important;position: relative;}#sk-container-id-10 div.sk-text-repr-fallback {display: none;}</style><div id=\"sk-container-id-10\" class=\"sk-top-container\"><div class=\"sk-text-repr-fallback\"><pre>MultinomialNB()</pre><b>In a Jupyter environment, please rerun this cell to show the HTML representation or trust the notebook. <br />On GitHub, the HTML representation is unable to render, please try loading this page with nbviewer.org.</b></div><div class=\"sk-container\" hidden><div class=\"sk-item\"><div class=\"sk-estimator sk-toggleable\"><input class=\"sk-toggleable__control sk-hidden--visually\" id=\"sk-estimator-id-10\" type=\"checkbox\" checked><label for=\"sk-estimator-id-10\" class=\"sk-toggleable__label sk-toggleable__label-arrow\">MultinomialNB</label><div class=\"sk-toggleable__content\"><pre>MultinomialNB()</pre></div></div></div></div></div>"
      ],
      "text/plain": [
       "MultinomialNB()"
      ]
     },
     "execution_count": 114,
     "metadata": {},
     "output_type": "execute_result"
    }
   ],
   "source": [
    "# Treinando o modelo\n",
    "\n",
    "nb.fit(dtm_train, labels_train)"
   ]
  },
  {
   "cell_type": "code",
   "execution_count": 115,
   "id": "a557e4a8",
   "metadata": {
    "execution": {
     "iopub.execute_input": "2021-11-15T14:05:07.956549Z",
     "iopub.status.busy": "2021-11-15T14:05:07.955381Z",
     "iopub.status.idle": "2021-11-15T14:05:07.960490Z",
     "shell.execute_reply": "2021-11-15T14:05:07.961122Z",
     "shell.execute_reply.started": "2021-11-10T14:54:46.456428Z"
    },
    "papermill": {
     "duration": 0.032744,
     "end_time": "2021-11-15T14:05:07.961343",
     "exception": false,
     "start_time": "2021-11-15T14:05:07.928599",
     "status": "completed"
    },
    "tags": []
   },
   "outputs": [],
   "source": [
    "# Fazendo predições\n",
    "\n",
    "labels_pred = nb.predict(dtm_test)"
   ]
  },
  {
   "cell_type": "code",
   "execution_count": 116,
   "id": "ca338ef7",
   "metadata": {
    "execution": {
     "iopub.execute_input": "2021-11-15T14:05:08.013945Z",
     "iopub.status.busy": "2021-11-15T14:05:08.013022Z",
     "iopub.status.idle": "2021-11-15T14:05:08.020895Z",
     "shell.execute_reply": "2021-11-15T14:05:08.021455Z",
     "shell.execute_reply.started": "2021-11-10T14:54:46.465474Z"
    },
    "papermill": {
     "duration": 0.03582,
     "end_time": "2021-11-15T14:05:08.021667",
     "exception": false,
     "start_time": "2021-11-15T14:05:07.985847",
     "status": "completed"
    },
    "tags": []
   },
   "outputs": [
    {
     "data": {
      "text/plain": [
       "0.989237668161435"
      ]
     },
     "execution_count": 116,
     "metadata": {},
     "output_type": "execute_result"
    }
   ],
   "source": [
    "# Acurácia\n",
    "from sklearn import metrics\n",
    "metrics.accuracy_score(labels_test, labels_pred)"
   ]
  },
  {
   "cell_type": "code",
   "execution_count": 117,
   "id": "0c1fe6d3",
   "metadata": {
    "execution": {
     "iopub.execute_input": "2021-11-15T14:05:08.074194Z",
     "iopub.status.busy": "2021-11-15T14:05:08.072824Z",
     "iopub.status.idle": "2021-11-15T14:05:08.083832Z",
     "shell.execute_reply": "2021-11-15T14:05:08.084537Z",
     "shell.execute_reply.started": "2021-11-10T14:54:46.483728Z"
    },
    "papermill": {
     "duration": 0.038406,
     "end_time": "2021-11-15T14:05:08.084779",
     "exception": false,
     "start_time": "2021-11-15T14:05:08.046373",
     "status": "completed"
    },
    "tags": []
   },
   "outputs": [
    {
     "data": {
      "text/plain": [
       "array([[962,   5],\n",
       "       [  7, 141]])"
      ]
     },
     "execution_count": 117,
     "metadata": {},
     "output_type": "execute_result"
    }
   ],
   "source": [
    "# Criando a matrix de confusão para precisão e recall (essas são duas outrss métricas de avaliação) \n",
    "metrics.confusion_matrix(labels_test, labels_pred)"
   ]
  },
  {
   "cell_type": "code",
   "execution_count": 118,
   "id": "0a610761",
   "metadata": {
    "execution": {
     "iopub.execute_input": "2021-11-15T14:05:08.140260Z",
     "iopub.status.busy": "2021-11-15T14:05:08.139447Z",
     "iopub.status.idle": "2021-11-15T14:05:08.150314Z",
     "shell.execute_reply": "2021-11-15T14:05:08.151334Z",
     "shell.execute_reply.started": "2021-11-10T14:54:46.498663Z"
    },
    "papermill": {
     "duration": 0.041027,
     "end_time": "2021-11-15T14:05:08.151647",
     "exception": false,
     "start_time": "2021-11-15T14:05:08.110620",
     "status": "completed"
    },
    "tags": []
   },
   "outputs": [
    {
     "name": "stdout",
     "output_type": "stream",
     "text": [
      "Recall: 0.9527027027027027\n",
      "Precisão: 0.9657534246575342\n"
     ]
    }
   ],
   "source": [
    "# Percentagem do total de spams detectados i.e.recall\n",
    "print(\"Recall:\", metrics.recall_score(labels_test, labels_pred))\n",
    "\n",
    "# Percentagem das predições positivas (spams) corretas, i.e. precisão\n",
    "print(\"Precisão:\", metrics.precision_score(labels_test, labels_pred))"
   ]
  },
  {
   "cell_type": "code",
   "execution_count": 119,
   "id": "27211b86",
   "metadata": {
    "execution": {
     "iopub.execute_input": "2021-11-15T14:05:08.206878Z",
     "iopub.status.busy": "2021-11-15T14:05:08.204848Z",
     "iopub.status.idle": "2021-11-15T14:05:08.217507Z",
     "shell.execute_reply": "2021-11-15T14:05:08.215851Z",
     "shell.execute_reply.started": "2021-11-10T14:54:46.509847Z"
    },
    "papermill": {
     "duration": 0.039634,
     "end_time": "2021-11-15T14:05:08.217785",
     "exception": false,
     "start_time": "2021-11-15T14:05:08.178151",
     "status": "completed"
    },
    "tags": []
   },
   "outputs": [
    {
     "name": "stdout",
     "output_type": "stream",
     "text": [
      "Ordem das classes no predict_proba: [0 1]\n",
      "Exemplos de probabilidades de classes: [1.00000000e+00 3.19294436e-18]\n"
     ]
    }
   ],
   "source": [
    "print(\"Ordem das classes no predict_proba:\", nb.classes_)\n",
    "print(\"Exemplos de probabilidades de classes:\", nb.predict_proba(dtm_test)[0])\n"
   ]
  },
  {
   "cell_type": "code",
   "execution_count": 120,
   "id": "a54770c2",
   "metadata": {
    "execution": {
     "iopub.execute_input": "2021-11-15T14:05:08.272958Z",
     "iopub.status.busy": "2021-11-15T14:05:08.272140Z",
     "iopub.status.idle": "2021-11-15T14:05:08.280482Z",
     "shell.execute_reply": "2021-11-15T14:05:08.279743Z",
     "shell.execute_reply.started": "2021-11-10T14:54:46.522845Z"
    },
    "papermill": {
     "duration": 0.039217,
     "end_time": "2021-11-15T14:05:08.280655",
     "exception": false,
     "start_time": "2021-11-15T14:05:08.241438",
     "status": "completed"
    },
    "tags": []
   },
   "outputs": [],
   "source": [
    "# Uma vez que somente ~15% dos rótulos são positivos (spam), a curva precisão-recall é mais informativa que\n",
    "# a curva ROC\n",
    "\n",
    "labels_prob = nb.predict_proba(dtm_test)[:, 1]\n",
    "precisions, recalls, thresholds = metrics.precision_recall_curve(labels_test, labels_prob)"
   ]
  },
  {
   "cell_type": "code",
   "execution_count": 121,
   "id": "eeca8548",
   "metadata": {
    "execution": {
     "iopub.execute_input": "2021-11-15T14:05:08.349657Z",
     "iopub.status.busy": "2021-11-15T14:05:08.345103Z",
     "iopub.status.idle": "2021-11-15T14:05:08.808366Z",
     "shell.execute_reply": "2021-11-15T14:05:08.809577Z",
     "shell.execute_reply.started": "2021-11-10T14:54:46.535702Z"
    },
    "papermill": {
     "duration": 0.504082,
     "end_time": "2021-11-15T14:05:08.809871",
     "exception": false,
     "start_time": "2021-11-15T14:05:08.305789",
     "status": "completed"
    },
    "tags": []
   },
   "outputs": [
    {
     "data": {
      "image/png": "[encoded data removed]",
      "text/plain": [
       "<Figure size 1000x700 with 1 Axes>"
      ]
     },
     "metadata": {},
     "output_type": "display_data"
    }
   ],
   "source": [
    "# Plotando a curva precisão-recall \n",
    "\n",
    "import matplotlib.pyplot as plt\n",
    "plt.figure(figsize=(10, 7))\n",
    "plt.plot(precisions[:-1], recalls[:-1])\n",
    "plt.xlabel(\"Recalls\")\n",
    "plt.xticks(np.arange(0, 1.1, 0.1))\n",
    "plt.ylabel(\"Precisão\")\n",
    "plt.yticks(np.arange(0, 1.1, 0.1))\n",
    "plt.title(\"Curva Precisão-Recall\")\n",
    "plt.show()"
   ]
  },
  {
   "attachments": {},
   "cell_type": "markdown",
   "id": "cabfb8a9",
   "metadata": {},
   "source": [
    "# Classificação utilizando TensorFlow\n",
    "\n",
    "Para aprimorar ainda mais o modelo classificador de *spams*, a biblioteca *TensorFlow* será utilizada. Abaixo estão algumas referências nas quais me baseei para a construção desse classificador. Mais especificamente ainda, segui o tutorial disponibilizado no último link, em que o autor utilizou o modelo de linguagem [BERT](https://en.wikipedia.org/wiki/BERT_(language_model)) para otimizar a classificação de *spams*.\n",
    "\n",
    "- https://www.tensorflow.org/?hl=pt-br\n",
    "- https://medium.com/swlh/a-beginners-guide-to-text-classification-using-tensorflow-hub-59ba2e6d439c\n",
    "- https://www.section.io/engineering-education/classification-model-using-bert-and-tensorflow/\n"
   ]
  },
  {
   "attachments": {},
   "cell_type": "markdown",
   "id": "a3fa92f1",
   "metadata": {},
   "source": [
    "# Desempenho\n",
    "Para comparar o desempenho do modelo antigo e o novo  modelo proposta utilizando TensorFlow, serão realizadas comparações das métricas base de classificação como precisão, revocação, acurácia, *f1-score*, etc. Principalmente, por se tratar de uma classificação binária, a métrica *f1-score* será a principal para comparação, uma vez que ela permite encontrar um bom balanceamento entre precisão e revocação."
   ]
  },
  {
   "attachments": {},
   "cell_type": "markdown",
   "id": "3abd9da5",
   "metadata": {},
   "source": [
    "# Desenvolvimento\n",
    "Para uma performance mais otimizada, o código que realiza as computações necessárias foi feito em um arquivo *.py* e executado em uma máquina que acelerou o processo de treinamento. Posteriormente, esste código foi adicionado à este *notebook* (célula abaixo) para fins de entrega e mais fácil análise/leitura/teste.\n",
    "\n",
    "Assim como proposto pelo tutorial citado, a base de dados foi balanceada, de modo que durante o treinamento e durante o teste, o número de *spams* fosse igual ao número de *hams*."
   ]
  },
  {
   "cell_type": "code",
   "execution_count": 122,
   "id": "a2bd68cf",
   "metadata": {},
   "outputs": [],
   "source": [
    "import numpy as np\n",
    "import numpy.typing as npt\n",
    "import pandas as pd\n",
    "from sklearn.model_selection import train_test_split\n",
    "import tensorflow as tf\n",
    "import tensorflow_hub as hub\n",
    "import tensorflow_text as text\n",
    "import sklearn\n",
    "import json\n",
    "\n",
    "# constants\n",
    "\n",
    "RANDOM_STATE: np.int_ = 42\n",
    "TEST_SIZE: np.float_ = 0.2\n",
    "EPOCHS: np.int_ = 100\n",
    "\n",
    "sms: pd.DataFrame = pd.read_csv(\n",
    "    \"data/spam.csv\",\n",
    "    encoding=\"ISO-8859-1\",\n",
    "    usecols=[0, 1],\n",
    "    skiprows=1,\n",
    "    names=[\"label\", \"message\"],\n",
    ")\n",
    "\n",
    "sms.label = sms.label.map({\"ham\": 0, \"spam\": 1})\n",
    "\n",
    "# balanceamento do dataset\n",
    "df_spam: pd.DataFrame = sms.query(\"label == 1\")\n",
    "df_ham: pd.DataFrame = sms.query(\"label == 0\")\n",
    "df_ham_downsampled: pd.DataFrame = df_ham.sample(df_spam.shape[0])\n",
    "df_balanced: pd.DataFrame = pd.concat([df_ham_downsampled, df_spam])\n",
    "\n",
    "X_train, X_test, y_train, y_test = train_test_split(\n",
    "    df_balanced[\"message\"],\n",
    "    df_balanced[\"label\"],\n",
    "    stratify=df_balanced[\"label\"],\n",
    "    test_size=TEST_SIZE,\n",
    ")\n",
    "\n",
    "bert_preprocess = hub.KerasLayer(\n",
    "    \"https://tfhub.dev/tensorflow/bert_en_uncased_preprocess/3\"\n",
    ")\n",
    "bert_encoder = hub.KerasLayer(\n",
    "    \"https://tfhub.dev/tensorflow/bert_en_uncased_L-12_H-768_A-12/4\"\n",
    ")\n",
    "\n",
    "text_input = tf.keras.layers.Input(shape=(), dtype=tf.string, name=\"text\")\n",
    "preprocessed_text = bert_preprocess(text_input)\n",
    "outputs = bert_encoder(preprocessed_text)\n",
    "\n",
    "l = tf.keras.layers.Dropout(0.1, name=\"dropout\")(outputs[\"pooled_output\"])\n",
    "l = tf.keras.layers.Dense(1, activation=\"sigmoid\", name=\"output\")(l)\n",
    "\n",
    "model = tf.keras.Model(inputs=[text_input], outputs=[l])\n",
    "model.summary()\n",
    "\n",
    "METRICS: list = [\n",
    "    tf.keras.metrics.BinaryAccuracy(name=\"accuracy\"),\n",
    "    tf.keras.metrics.Precision(name=\"precision\"),\n",
    "    tf.keras.metrics.Recall(name=\"recall\"),\n",
    "]\n",
    "\n",
    "model.compile(optimizer=\"adam\", loss=\"binary_crossentropy\", metrics=METRICS)\n",
    "model.fit(X_train, y_train, epochs=EPOCHS)\n",
    "\n",
    "y_pred = model.predict(X_test)\n",
    "y_pred = y_pred.flatten()\n",
    "y_pred = np.where(y_pred > 0.5, 1, 0)\n",
    "\n",
    "accuracy_score: np.float_ = sklearn.metrics.accuracy_score(y_test, y_pred)\n",
    "precision_score: npt.NDArray[np.float_] = sklearn.metrics.precision_score(\n",
    "    y_test, y_pred, average=None, zero_division=0\n",
    ")\n",
    "recall_score: npt.NDArray[np.float_] = sklearn.metrics.recall_score(\n",
    "    y_test, y_pred, average=None, zero_division=0\n",
    ")\n",
    "f1_score: npt.NDArray[np.float_] = sklearn.metrics.f1_score(\n",
    "    y_test, y_pred, average=None\n",
    ")\n",
    "confusion_matrix: npt.NDArray[np.int_] = sklearn.metrics.confusion_matrix(\n",
    "    y_test, y_pred\n",
    ")\n",
    "\n",
    "run_info: dict = {\n",
    "    \"accuracy_score\": accuracy_score,\n",
    "    \"precision_score\": precision_score.tolist(),\n",
    "    \"recall_score\": recall_score.tolist(),\n",
    "    \"f1_score\": f1_score.tolist(),\n",
    "    \"confusion_matrix\": confusion_matrix.tolist(),\n",
    "    \"random_state_seed\": RANDOM_STATE,\n",
    "    \"test_size\": TEST_SIZE,\n",
    "    \"epochs\": EPOCHS,\n",
    "}\n",
    "\n",
    "with open(\"results.json\", \"w\") as file:\n",
    "    json.dump(run_info, file, indent=4)\n"
   ]
  },
  {
   "attachments": {},
   "cell_type": "markdown",
   "id": "49b3da4a",
   "metadata": {},
   "source": [
    "# Resultados"
   ]
  },
  {
   "cell_type": "code",
   "execution_count": 17,
   "id": "4aad2acc",
   "metadata": {},
   "outputs": [],
   "source": [
    "with open(\"data/results.json\", \"r\") as file:\n",
    "    bert_results: dict = json.load(file)"
   ]
  },
  {
   "cell_type": "code",
   "execution_count": 24,
   "id": "5ae368c2",
   "metadata": {},
   "outputs": [
    {
     "data": {
      "image/png": "[encoded data removed]",
      "text/plain": [
       "<Figure size 640x480 with 2 Axes>"
      ]
     },
     "metadata": {},
     "output_type": "display_data"
    }
   ],
   "source": [
    "confusion_matrix: np.array = np.array(bert_results[\"confusion_matrix\"])\n",
    "labels: list[str] = [\"Spam\", \"Ham\"]\n",
    "\n",
    "fig, ax = plt.subplots()\n",
    "im = ax.imshow(confusion_matrix, cmap=\"Blues\")\n",
    "\n",
    "cbar = ax.figure.colorbar(im, ax=ax)\n",
    "\n",
    "ax.set_xticks(np.arange(len(labels)))\n",
    "ax.set_yticks(np.arange(len(labels)))\n",
    "ax.set_xticklabels(labels)\n",
    "ax.set_yticklabels(labels)\n",
    "\n",
    "plt.setp(ax.get_xticklabels(), rotation=45, ha=\"right\", rotation_mode=\"anchor\")\n",
    "\n",
    "for i in range(len(labels)):\n",
    "    for j in range(len(labels)):\n",
    "        text = ax.text(\n",
    "            j, i, confusion_matrix[i, j], ha=\"center\", va=\"center\", color=\"black\"\n",
    "        )\n",
    "\n",
    "ax.set_title(\"Confusion Matrix\")\n",
    "plt.xlabel(\"Predicted label\")\n",
    "plt.ylabel(\"True label\")\n",
    "\n",
    "plt.show()"
   ]
  },
  {
   "attachments": {},
   "cell_type": "markdown",
   "id": "9ad4439d",
   "metadata": {},
   "source": [
    "Como podemos ver, a matriz de confusão do modelo criado apresenta excelentes resultados, com sua diagonal preenchida com valores muito altos, e apenas poucos valores estando fora dela. Mais especificamente, vamos analisar agora as métricas de classificação obtidas com o novo modelo que utiliza o BERT."
   ]
  },
  {
   "cell_type": "code",
   "execution_count": 34,
   "id": "9e4cb396",
   "metadata": {},
   "outputs": [
    {
     "name": "stdout",
     "output_type": "stream",
     "text": [
      "Accuracy score: 0.9665551839464883\n",
      "Precision score: 0.9673659673659674\n",
      "Recall score: 0.9664876957494407\n",
      "F1 score: 0.9665368430477215\n"
     ]
    }
   ],
   "source": [
    "print(f\"Accuracy score: {bert_results['accuracy_score']}\")\n",
    "print(f\"Precision score: {np.average(bert_results['precision_score'])}\")\n",
    "print(f\"Recall score: {np.average(bert_results['recall_score'])}\")\n",
    "print(f\"F1 score: {np.average(bert_results['f1_score'])}\")"
   ]
  },
  {
   "attachments": {},
   "cell_type": "markdown",
   "id": "36cd6e37",
   "metadata": {},
   "source": [
    "Podemos notar diretamente que o modelo criado possui uma excelente performance, tendo obtidos excelentes métricas durante a classificação. Na tabela abaixo, podemos ver a comparação entre os resultados obtidos com o modelo antigo e os resultados obtidos com o novo modelo que utiliza o BERT."
   ]
  },
  {
   "attachments": {},
   "cell_type": "markdown",
   "id": "ce4d1c5d",
   "metadata": {},
   "source": [
    "| Modelo           | Acurácia | Precisão | Recall | F1-Score |\n",
    "|------------------|----------|----------|--------|----------|\n",
    "| Antigo (sklearn) | 0.989    | 0.965    | 0.952  | 0.958    |\n",
    "| Novo (BERT)      | 0.966    | 0.967    | 0.966  | 0.966    |"
   ]
  },
  {
   "attachments": {},
   "cell_type": "markdown",
   "id": "7a2c9530",
   "metadata": {},
   "source": [
    "Nota-se que, apesar do modelo antigo (que utiliza apenas a biblioteca *scikit-learn*) apresentar um melhor resultado em acurácia, ele perde em todas as outras métricas de classificação, inclusive na métrica *F1-Score*, uma das principais para se analisar o desempenho de um modelo classificador binário.\n",
    "\n",
    "O fato da acurácia ser melhor no modelo anterior, no entanto, não assusta, uma vez que, diferente do que foi feito na nova abordagem, o modelo anterior não balanceou o conjunto de dados, de modo que o número de instância de uma classe eram muito diferentes do que da outra. O *F1-Score*, por levar em consideração em seu modelo tanto a precisão quanto o *recall*, evita quais quer problemas relacionados à isso, principalmente considerando que para a classificação com o BERT as classes estavam balanceadas.\n",
    "\n",
    "Para sanar quaisquer dúvidas referentes à isso, o modelo de classificação do BERT foi testado também no conjunto de dados não balanceado, com o fito de ver como ele se comportaria nesse caso. Os resultados obtidos nesse cenário podem ser vistos abaixo:\n",
    "\n",
    "__OBSERVAÇÃO__: o modelo BERT treinado com a base inteira de dados, sem balanceamento, é extremamente lento durante o treino, devido à sua natureza mais complexa. Devido à isso, o código referente à ele não está incluso no *notebook*. No entanto, ele é idêntico ao utilizado anteriomente, com a mudança estando apenas no não balanceamento do conjunto de dados."
   ]
  },
  {
   "cell_type": "code",
   "execution_count": 2,
   "id": "cf200b24",
   "metadata": {},
   "outputs": [],
   "source": [
    "with open(\"data/not_balanced_results.json\", \"r\") as file:\n",
    "    not_balanced_bert_results: dict = json.load(file)"
   ]
  },
  {
   "cell_type": "code",
   "execution_count": 3,
   "id": "1da2158e",
   "metadata": {},
   "outputs": [
    {
     "data": {
      "image/png": "[encoded data removed]",
      "text/plain": [
       "<Figure size 640x480 with 2 Axes>"
      ]
     },
     "metadata": {},
     "output_type": "display_data"
    }
   ],
   "source": [
    "confusion_matrix: np.array = np.array(not_balanced_bert_results[\"confusion_matrix\"])\n",
    "labels: list[str] = [\"Spam\", \"Ham\"]\n",
    "\n",
    "fig, ax = plt.subplots()\n",
    "im = ax.imshow(confusion_matrix, cmap=\"Blues\")\n",
    "\n",
    "cbar = ax.figure.colorbar(im, ax=ax)\n",
    "\n",
    "ax.set_xticks(np.arange(len(labels)))\n",
    "ax.set_yticks(np.arange(len(labels)))\n",
    "ax.set_xticklabels(labels)\n",
    "ax.set_yticklabels(labels)\n",
    "\n",
    "plt.setp(ax.get_xticklabels(), rotation=45, ha=\"right\", rotation_mode=\"anchor\")\n",
    "\n",
    "for i in range(len(labels)):\n",
    "    for j in range(len(labels)):\n",
    "        text = ax.text(\n",
    "            j, i, confusion_matrix[i, j], ha=\"center\", va=\"center\", color=\"black\"\n",
    "        )\n",
    "\n",
    "ax.set_title(\"Confusion Matrix\")\n",
    "plt.xlabel(\"Predicted label\")\n",
    "plt.ylabel(\"True label\")\n",
    "\n",
    "plt.show()"
   ]
  },
  {
   "cell_type": "code",
   "execution_count": 4,
   "id": "967e4465",
   "metadata": {},
   "outputs": [
    {
     "name": "stdout",
     "output_type": "stream",
     "text": [
      "Accuracy score: 0.9856502242152466\n",
      "Precision score: 0.9768590463034907\n",
      "Recall score: 0.9604992566037212\n",
      "F1 score: 0.9684747727497631\n"
     ]
    }
   ],
   "source": [
    "print(f\"Accuracy score: {not_balanced_bert_results['accuracy_score']}\")\n",
    "print(f\"Precision score: {np.average(not_balanced_bert_results['precision_score'])}\")\n",
    "print(f\"Recall score: {np.average(not_balanced_bert_results['recall_score'])}\")\n",
    "print(f\"F1 score: {np.average(not_balanced_bert_results['f1_score'])}\")"
   ]
  },
  {
   "attachments": {},
   "cell_type": "markdown",
   "id": "e6dc7e3d",
   "metadata": {},
   "source": [
    "A seguinte tabela, então, é construída, considerando os resultados obtidos com o classificador BERT sem balancear as classes no conjunto de treino."
   ]
  },
  {
   "attachments": {},
   "cell_type": "markdown",
   "id": "20bfad3a",
   "metadata": {},
   "source": [
    "| Modelo           | Acurácia | Precisão | Recall | F1-Score |\n",
    "|------------------|----------|----------|--------|----------|\n",
    "| Antigo (sklearn) | 0.989    | 0.965    | 0.952  | 0.958    |\n",
    "| Novo (BERT)      | 0.966    | 0.967    | 0.966  | 0.966    |\n",
    "| Novo (BERT) - Não balanceado    | 0.985    | 0.976    | 0.960  | 0.968    |"
   ]
  },
  {
   "attachments": {},
   "cell_type": "markdown",
   "id": "835f1a20",
   "metadata": {},
   "source": [
    "Pode-se ver que a métrica de *Recall* foi a única com um desempenho ligeiramente pior do que o modelo treinado com um conjunto balanceado, enquanto as outras métricas tiveram um aumento considerável, principalmente a acurácia. Dessa maneira, podemos inferir que para essa base de dados em questão manter as classes desbalanceadas, o que significa mais dados de treino, teve um resultado positivo para o desempenho do modelo.\n",
    "\n",
    "Em relação ao modelo inicial, feito com a biblioteca *Scikit-Learn*, sua acurácia ainda foi a maior obtida, mas o modelo BERT com o conjunto inteiro de dados a superou em todas as outras métricas. Esse modelo, inclusive, foi o que obteve o maior *F1-Score* dentre todos os criados, o que demonstra seu bom desempenho na classificação de *spams*."
   ]
  }
 ],
 "metadata": {
  "kernelspec": {
   "display_name": "Python 3",
   "language": "python",
   "name": "python3"
  },
  "language_info": {
   "codemirror_mode": {
    "name": "ipython",
    "version": 3
   },
   "file_extension": ".py",
   "mimetype": "text/x-python",
   "name": "python",
   "nbconvert_exporter": "python",
   "pygments_lexer": "ipython3",
   "version": "3.10.11"
  },
  "papermill": {
   "default_parameters": {},
   "duration": 17.08365,
   "end_time": "2021-11-15T14:05:09.953000",
   "environment_variables": {},
   "exception": null,
   "input_path": "__notebook__.ipynb",
   "output_path": "__notebook__.ipynb",
   "parameters": {},
   "start_time": "2021-11-15T14:04:52.869350",
   "version": "2.3.3"
  }
 },
 "nbformat": 4,
 "nbformat_minor": 5
}
